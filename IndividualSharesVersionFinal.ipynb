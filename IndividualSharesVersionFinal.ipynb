{
  "nbformat": 4,
  "nbformat_minor": 0,
  "metadata": {
    "colab": {
      "provenance": [],
      "gpuType": "T4"
    },
    "kernelspec": {
      "name": "python3",
      "display_name": "Python 3"
    },
    "language_info": {
      "name": "python"
    },
    "accelerator": "GPU"
  },
  "cells": [
    {
      "cell_type": "code",
      "source": [
        "# Cell One\n",
        "import pandas as pd\n",
        "import numpy as np\n",
        "from sklearn.model_selection import train_test_split\n",
        "from sklearn.feature_extraction.text import TfidfVectorizer\n",
        "import yfinance as yf\n",
        "import re\n",
        "from nltk.corpus import stopwords\n",
        "import nltk\n",
        "from google.colab import drive\n",
        "nltk.download('stopwords')"
      ],
      "metadata": {
        "id": "IhzDj90C_Ar4",
        "colab": {
          "base_uri": "https://localhost:8080/"
        },
        "outputId": "195ca92d-c56c-4306-d966-09c048c58860"
      },
      "execution_count": 2,
      "outputs": [
        {
          "output_type": "stream",
          "name": "stderr",
          "text": [
            "[nltk_data] Downloading package stopwords to /root/nltk_data...\n",
            "[nltk_data]   Unzipping corpora/stopwords.zip.\n"
          ]
        },
        {
          "output_type": "execute_result",
          "data": {
            "text/plain": [
              "True"
            ]
          },
          "metadata": {},
          "execution_count": 2
        }
      ]
    },
    {
      "cell_type": "code",
      "source": [
        "# Cell Two\n",
        "\n",
        "# Mount the drive\n",
        "drive.mount('/content/drive', force_remount=True)\n",
        "\n",
        "# Define the save path in Google Drive\n",
        "save_path_parquet = '/content/drive/My Drive/news_data.parquet'\n",
        "news_data = pd.read_parquet(save_path_parquet)\n",
        "\n",
        "# Count the number of headlines for each ticker and display in descending order\n",
        "ticker_headline_counts = news_data['stock'].value_counts()\n",
        "\n",
        "# Filter tickers with at least 2000 headlines\n",
        "filtered_tickers = ticker_headline_counts[ticker_headline_counts >= 2000]\n",
        "\n",
        "# Define a function to download stock data\n",
        "def fetch_stock_data(ticker):\n",
        "    try:\n",
        "        stock_data = yf.download(ticker, start='2009-02-13', end='2020-06-11')\n",
        "        stock_data = stock_data.reset_index()\n",
        "        stock_data.rename(columns={\"Date\": \"date\"}, inplace=True)\n",
        "        stock_data['date'] = pd.to_datetime(stock_data['date'])\n",
        "        return stock_data\n",
        "    except Exception:\n",
        "        return None\n",
        "\n",
        "# Attempt to fetch data for top 30 tickers with highest news occurrences\n",
        "top_30_tickers = filtered_tickers.index[:30]\n",
        "successful_tickers = []\n",
        "\n",
        "for ticker in top_30_tickers:\n",
        "    data = fetch_stock_data(ticker)\n",
        "    if data is not None:\n",
        "        successful_tickers.append(ticker)\n",
        "\n",
        "# Select top 10 from successful tickers based on news occurrence\n",
        "top_10_tickers = sorted(successful_tickers, key=lambda x: filtered_tickers[x], reverse=True)[:10]\n",
        "\n",
        "# Process only the top 10 tickers\n",
        "stock_data_dict = {}\n",
        "\n",
        "for ticker in top_10_tickers:\n",
        "    stock_data = fetch_stock_data(ticker)\n",
        "\n",
        "    stock_data_dict[ticker] = stock_data\n",
        "\n",
        "# Data processing: Aggregate news per ticker and filter by date\n",
        "aggregated_news_per_ticker = news_data.groupby(['date', 'stock']).agg({'headline': ' '.join}).reset_index()\n",
        "ticker_news_dict = {}\n",
        "\n",
        "for ticker in top_10_tickers:\n",
        "    ticker_news = aggregated_news_per_ticker[aggregated_news_per_ticker['stock'] == ticker]\n",
        "\n",
        "    ticker_news = ticker_news.copy()\n",
        "    ticker_news['date'] = pd.to_datetime(ticker_news['date'])\n",
        "\n",
        "    # Ensuring common dates between stock data and news data\n",
        "    common_dates = stock_data_dict[ticker][stock_data_dict[ticker]['date'].isin(ticker_news['date'])]\n",
        "    filtered_news = ticker_news[ticker_news['date'].isin(common_dates['date'])]\n",
        "\n",
        "    ticker_news_dict[ticker] = filtered_news\n",
        "\n"
      ],
      "metadata": {
        "id": "eHb8e5AegcIT",
        "colab": {
          "base_uri": "https://localhost:8080/"
        },
        "outputId": "9e9f4cb9-be8a-4ff6-ed90-5976cd5aaf79"
      },
      "execution_count": 3,
      "outputs": [
        {
          "output_type": "stream",
          "name": "stdout",
          "text": [
            "Mounted at /content/drive\n",
            "[*********************100%%**********************]  1 of 1 completed\n",
            "[*********************100%%**********************]  1 of 1 completed\n",
            "[*********************100%%**********************]  1 of 1 completed\n",
            "[*********************100%%**********************]  1 of 1 completed\n",
            "[*********************100%%**********************]  1 of 1 completed\n",
            "[*********************100%%**********************]  1 of 1 completed\n",
            "[*********************100%%**********************]  1 of 1 completed\n",
            "[*********************100%%**********************]  1 of 1 completed"
          ]
        },
        {
          "output_type": "stream",
          "name": "stderr",
          "text": [
            "ERROR:yfinance:\n",
            "1 Failed download:\n",
            "ERROR:yfinance:['FCAU']: Exception('%ticker%: No timezone found, symbol may be delisted')\n"
          ]
        },
        {
          "output_type": "stream",
          "name": "stdout",
          "text": [
            "\n",
            "[*********************100%%**********************]  1 of 1 completed\n",
            "[*********************100%%**********************]  1 of 1 completed\n",
            "[*********************100%%**********************]  1 of 1 completed\n",
            "[*********************100%%**********************]  1 of 1 completed\n",
            "[*********************100%%**********************]  1 of 1 completed\n",
            "[*********************100%%**********************]  1 of 1 completed\n",
            "[*********************100%%**********************]  1 of 1 completed\n",
            "[*********************100%%**********************]  1 of 1 completed\n",
            "[*********************100%%**********************]  1 of 1 completed\n",
            "[*********************100%%**********************]  1 of 1 completed\n",
            "[*********************100%%**********************]  1 of 1 completed\n",
            "[*********************100%%**********************]  1 of 1 completed\n",
            "[*********************100%%**********************]  1 of 1 completed\n",
            "[*********************100%%**********************]  1 of 1 completed\n",
            "[*********************100%%**********************]  1 of 1 completed\n",
            "[*********************100%%**********************]  1 of 1 completed"
          ]
        },
        {
          "output_type": "stream",
          "name": "stderr",
          "text": [
            "ERROR:yfinance:\n",
            "1 Failed download:\n",
            "ERROR:yfinance:['MYL']: Exception('%ticker%: No timezone found, symbol may be delisted')\n"
          ]
        },
        {
          "output_type": "stream",
          "name": "stdout",
          "text": [
            "\n",
            "[*********************100%%**********************]  1 of 1 completed\n",
            "[*********************100%%**********************]  1 of 1 completed\n",
            "[*********************100%%**********************]  1 of 1 completed\n",
            "[*********************100%%**********************]  1 of 1 completed"
          ]
        },
        {
          "output_type": "stream",
          "name": "stderr",
          "text": [
            "ERROR:yfinance:\n",
            "1 Failed download:\n",
            "ERROR:yfinance:['YHOO']: Exception('%ticker%: No price data found, symbol may be delisted (1d 2009-02-13 -> 2020-06-11)')\n"
          ]
        },
        {
          "output_type": "stream",
          "name": "stdout",
          "text": [
            "\n",
            "[*********************100%%**********************]  1 of 1 completed\n",
            "[*********************100%%**********************]  1 of 1 completed\n",
            "[*********************100%%**********************]  1 of 1 completed\n",
            "[*********************100%%**********************]  1 of 1 completed\n",
            "[*********************100%%**********************]  1 of 1 completed\n",
            "[*********************100%%**********************]  1 of 1 completed\n",
            "[*********************100%%**********************]  1 of 1 completed\n",
            "[*********************100%%**********************]  1 of 1 completed\n",
            "[*********************100%%**********************]  1 of 1 completed\n",
            "[*********************100%%**********************]  1 of 1 completed"
          ]
        },
        {
          "output_type": "stream",
          "name": "stderr",
          "text": [
            "ERROR:yfinance:\n",
            "1 Failed download:\n",
            "ERROR:yfinance:['FCAU']: Exception('%ticker%: No timezone found, symbol may be delisted')\n"
          ]
        },
        {
          "output_type": "stream",
          "name": "stdout",
          "text": [
            "\n",
            "[*********************100%%**********************]  1 of 1 completed\n",
            "[*********************100%%**********************]  1 of 1 completed\n"
          ]
        }
      ]
    },
    {
      "cell_type": "code",
      "source": [
        "# Cell Three\n",
        "\n",
        "complete_data = pd.DataFrame()\n",
        "\n",
        "# Loop over each filtered ticker and merge its stock data with its news data\n",
        "for ticker in top_10_tickers:\n",
        "    ticker_stock_data = stock_data_dict[ticker][['date', 'Open', 'Close']]\n",
        "    ticker_news = ticker_news_dict[ticker][['date', 'headline']]\n",
        "    merged_data = pd.merge(ticker_stock_data, ticker_news, on='date', how='inner')\n",
        "    complete_data = pd.concat([complete_data, merged_data])\n",
        "\n",
        "# Ensure that the resulting DataFrame is sorted by date and reset the index\n",
        "complete_data = complete_data.sort_values(by='date').reset_index(drop=True)\n",
        "\n",
        "# Create Labels (The market trend will be our target variable for regression)\n",
        "complete_data['market trend'] = ((complete_data['Close'] - complete_data['Open']) / complete_data['Open']) * 100\n",
        "\n",
        "# Data Inspection\n",
        "print(\"\\nOverview of Complete Data:\")\n",
        "print(complete_data.head())\n",
        "print(complete_data.describe())\n",
        "\n",
        "# Check for Missing Values\n",
        "print(\"\\nMissing Values:\")\n",
        "print(complete_data.isnull().sum())\n",
        "\n",
        "# Check Distribution of 'market trend'\n",
        "print(\"\\nDistribution of Market Trend:\")\n",
        "print(complete_data['market trend'].describe())\n",
        "\n",
        "# Convert headline to lowercase, remove non-word characters\n",
        "complete_data['headline'] = complete_data['headline'].apply(lambda x: x.lower())\n",
        "complete_data['headline'] = complete_data['headline'].apply(lambda x: re.sub(r'\\W', ' ', x))\n",
        "\n",
        "# Feature Extraction using the headlines\n",
        "vectorizer = TfidfVectorizer(max_features=1500, min_df=5, max_df=0.7, stop_words=stopwords.words('english'))\n",
        "X = vectorizer.fit_transform(complete_data['headline']).toarray()\n",
        "\n",
        "# Data Split using the market trend as the target\n",
        "y = complete_data['market trend'].values\n",
        "X_train, X_test, y_train, y_test = train_test_split(X, y, test_size=0.2, random_state=42)\n",
        "\n",
        "# Model Building for Regression\n",
        "\n",
        "# Import Keras modules\n",
        "from keras.layers import Dense, Dropout\n",
        "from keras.models import Sequential\n",
        "from keras.optimizers import Adam\n",
        "from keras.callbacks import EarlyStopping\n",
        "from keras.regularizers import l1\n",
        "\n",
        "model = Sequential()\n",
        "\n",
        "# Define L1 regularization strength\n",
        "l1_value = 0.1\n",
        "\n",
        "# Modify the model layers to include L1 regularization\n",
        "model.add(Dense(128, input_dim=X.shape[1], activation='relu', kernel_regularizer=l1(l1_value)))\n",
        "model.add(Dropout(0.2))\n",
        "model.add(Dense(64, activation='relu', kernel_regularizer=l1(l1_value)))\n",
        "model.add(Dropout(0.2))\n",
        "model.add(Dense(32, activation='relu', kernel_regularizer=l1(l1_value)))\n",
        "model.add(Dropout(0.2))\n",
        "model.add(Dense(1))  # Single output neuron for regression\n",
        "\n",
        "# Set hyperparameters\n",
        "learning_rate = 0.1\n",
        "batch_size = 32\n",
        "\n",
        "# Adam optimiser instantiation\n",
        "opt = Adam(learning_rate=learning_rate)\n",
        "\n",
        "# Model compilation for Regression\n",
        "model.compile(loss='mse', optimizer=opt)\n",
        "\n",
        "early_stop = EarlyStopping(monitor='val_loss', mode='min', verbose=1, patience=10)\n",
        "model.fit(X_train, y_train, epochs=100, batch_size=batch_size, validation_split=0.1, callbacks=[early_stop])\n"
      ],
      "metadata": {
        "id": "fRM_wYOq_RFG",
        "colab": {
          "base_uri": "https://localhost:8080/"
        },
        "outputId": "a757ab8f-9652-4bee-c542-2767fadc306b"
      },
      "execution_count": 4,
      "outputs": [
        {
          "output_type": "stream",
          "name": "stdout",
          "text": [
            "\n",
            "Overview of Complete Data:\n",
            "        date        Open       Close  \\\n",
            "0 2010-02-04   10.705000   10.580000   \n",
            "1 2010-02-09  792.000000  776.799988   \n",
            "2 2010-02-10  765.599976  767.200012   \n",
            "3 2010-02-12   22.730000   22.870001   \n",
            "4 2010-02-12   33.330002   34.200001   \n",
            "\n",
            "                                    headline  market trend  \n",
            "0  Alternative Investing in the 'New Normal'     -1.167679  \n",
            "1            Rob's Wrap: OSIP, FXP, VSH, SLE     -1.919193  \n",
            "2               Fitz Bits: IBM Is Firming Up      0.208991  \n",
            "3             Avoid China and Brazil Tuesday      0.615932  \n",
            "4    WFMI Preview: Focus Will Be on Expenses      2.610258  \n",
            "              Open        Close  market trend\n",
            "count  8419.000000  8419.000000   8419.000000\n",
            "mean    105.070942   105.066819      0.025678\n",
            "std     161.201049   161.223973      1.613562\n",
            "min       9.875000     9.660000    -18.890360\n",
            "25%      30.260000    30.260000     -0.719686\n",
            "50%      52.599998    52.630001      0.036174\n",
            "75%      95.899998    96.040001      0.783859\n",
            "max    1357.800049  1360.599976     14.418064\n",
            "\n",
            "Missing Values:\n",
            "date            0\n",
            "Open            0\n",
            "Close           0\n",
            "headline        0\n",
            "market trend    0\n",
            "dtype: int64\n",
            "\n",
            "Distribution of Market Trend:\n",
            "count    8419.000000\n",
            "mean        0.025678\n",
            "std         1.613562\n",
            "min       -18.890360\n",
            "25%        -0.719686\n",
            "50%         0.036174\n",
            "75%         0.783859\n",
            "max        14.418064\n",
            "Name: market trend, dtype: float64\n",
            "Epoch 1/100\n",
            "190/190 [==============================] - 5s 4ms/step - loss: 320.4169 - val_loss: 323.9776\n",
            "Epoch 2/100\n",
            "190/190 [==============================] - 1s 3ms/step - loss: 281.5233 - val_loss: 218.9924\n",
            "Epoch 3/100\n",
            "190/190 [==============================] - 1s 3ms/step - loss: 280.5800 - val_loss: 325.3512\n",
            "Epoch 4/100\n",
            "190/190 [==============================] - 1s 3ms/step - loss: 280.9552 - val_loss: 311.8392\n",
            "Epoch 5/100\n",
            "190/190 [==============================] - 1s 4ms/step - loss: 281.6031 - val_loss: 231.8890\n",
            "Epoch 6/100\n",
            "190/190 [==============================] - 1s 4ms/step - loss: 280.6031 - val_loss: 284.4073\n",
            "Epoch 7/100\n",
            "190/190 [==============================] - 1s 4ms/step - loss: 280.8873 - val_loss: 335.1786\n",
            "Epoch 8/100\n",
            "190/190 [==============================] - 1s 4ms/step - loss: 281.8524 - val_loss: 204.9710\n",
            "Epoch 9/100\n",
            "190/190 [==============================] - 1s 4ms/step - loss: 280.4668 - val_loss: 330.9235\n",
            "Epoch 10/100\n",
            "190/190 [==============================] - 1s 3ms/step - loss: 280.8453 - val_loss: 300.3015\n",
            "Epoch 11/100\n",
            "190/190 [==============================] - 1s 3ms/step - loss: 281.5319 - val_loss: 249.0495\n",
            "Epoch 12/100\n",
            "190/190 [==============================] - 1s 3ms/step - loss: 280.7445 - val_loss: 273.3047\n",
            "Epoch 13/100\n",
            "190/190 [==============================] - 1s 3ms/step - loss: 281.1865 - val_loss: 323.6317\n",
            "Epoch 14/100\n",
            "190/190 [==============================] - 1s 3ms/step - loss: 281.1991 - val_loss: 217.3115\n",
            "Epoch 15/100\n",
            "190/190 [==============================] - 1s 3ms/step - loss: 280.8891 - val_loss: 331.1020\n",
            "Epoch 16/100\n",
            "190/190 [==============================] - 1s 3ms/step - loss: 280.4884 - val_loss: 319.9358\n",
            "Epoch 17/100\n",
            "190/190 [==============================] - 1s 3ms/step - loss: 281.8551 - val_loss: 218.3225\n",
            "Epoch 18/100\n",
            "190/190 [==============================] - 1s 3ms/step - loss: 280.6350 - val_loss: 298.9707\n",
            "Epoch 18: early stopping\n"
          ]
        },
        {
          "output_type": "execute_result",
          "data": {
            "text/plain": [
              "<keras.callbacks.History at 0x7dc2806f6590>"
            ]
          },
          "metadata": {},
          "execution_count": 4
        }
      ]
    },
    {
      "cell_type": "code",
      "execution_count": 5,
      "metadata": {
        "id": "ZRQmwVgm-7ax",
        "colab": {
          "base_uri": "https://localhost:8080/",
          "height": 1000
        },
        "outputId": "29ff8c05-406a-46f7-a1e0-13ffcfc25ea9"
      },
      "outputs": [
        {
          "output_type": "stream",
          "name": "stdout",
          "text": [
            "Average daily percentage change in stock prices: 2.57%\n",
            "53/53 [==============================] - 0s 2ms/step\n",
            "Mean Squared Error (MSE): 2.3980091376999755\n",
            "Root Mean Squared Error (RMSE): 1.548550657130717\n",
            "Mean Absolute Error (MAE): 1.065547442304701\n"
          ]
        },
        {
          "output_type": "display_data",
          "data": {
            "text/plain": [
              "<Figure size 1000x600 with 1 Axes>"
            ],
            "image/png": "[encoded data removed]"
          },
          "metadata": {}
        },
        {
          "output_type": "display_data",
          "data": {
            "text/plain": [
              "<Figure size 1000x600 with 1 Axes>"
            ],
            "image/png": "[encoded data removed]"
          },
          "metadata": {}
        },
        {
          "output_type": "display_data",
          "data": {
            "text/plain": [
              "<Figure size 800x800 with 1 Axes>"
            ],
            "image/png": "[encoded data removed]"
          },
          "metadata": {}
        }
      ],
      "source": [
        "# Cell Four\n",
        "# Evaluation\n",
        "from sklearn.metrics import mean_squared_error, mean_absolute_error\n",
        "\n",
        "# Calculate the average change\n",
        "average_change = complete_data['market trend'].mean()\n",
        "\n",
        "# Convert it to percentage format\n",
        "average_change_percentage = average_change * 100\n",
        "\n",
        "print(f\"Average daily percentage change in stock prices: {average_change_percentage:.2f}%\")\n",
        "\n",
        "y_pred = model.predict(X_test)\n",
        "\n",
        "mse = mean_squared_error(y_test, y_pred)\n",
        "mae = mean_absolute_error(y_test, y_pred)\n",
        "rmse = np.sqrt(mse)\n",
        "\n",
        "print(f\"Mean Squared Error (MSE): {mse}\")\n",
        "print(f\"Root Mean Squared Error (RMSE): {rmse}\")\n",
        "print(f\"Mean Absolute Error (MAE): {mae}\")\n",
        "\n",
        "\n",
        "import matplotlib.pyplot as plt\n",
        "import numpy as np\n",
        "\n",
        "# Residuals\n",
        "residuals = y_test - y_pred.flatten()\n",
        "\n",
        "# Histogram of residuals\n",
        "plt.figure(figsize=(10, 6))\n",
        "plt.hist(residuals, bins=30, color='blue', alpha=0.7)\n",
        "plt.axvline(x=0, color='red', linestyle='--')\n",
        "plt.title('Histogram of Residuals (Actual - Predicted)')\n",
        "plt.xlabel('Error Value')\n",
        "plt.ylabel('Frequency')\n",
        "plt.show()\n",
        "\n",
        "# Bar chart for metrics\n",
        "metrics = ['Mean Change', 'MSE', 'RMSE', 'MAE']\n",
        "values = [average_change_percentage, mse, rmse, mae]\n",
        "\n",
        "plt.figure(figsize=(10, 6))\n",
        "plt.bar(metrics, values, color=['green', 'blue', 'purple', 'red'], alpha=0.7)\n",
        "plt.title('Model Evaluation Metrics')\n",
        "plt.ylabel('Value')\n",
        "plt.show()\n",
        "\n",
        "import numpy as np\n",
        "import scipy.stats as stats\n",
        "import matplotlib.pyplot as plt\n",
        "\n",
        "# Calculate residuals\n",
        "residuals = y_test - y_pred.ravel()\n",
        "\n",
        "# Q-Q plot\n",
        "plt.figure(figsize=(8, 8))\n",
        "stats.probplot(residuals, dist=\"norm\", plot=plt)\n",
        "plt.title(\"Q-Q Plot of Residuals\")\n",
        "plt.show()\n"
      ]
    }
  ]
}